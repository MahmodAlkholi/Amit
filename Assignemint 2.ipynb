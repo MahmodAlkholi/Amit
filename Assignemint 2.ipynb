{
 "cells": [
  {
   "cell_type": "markdown",
   "id": "3ae1fd43",
   "metadata": {},
   "source": [
    "# Task 1"
   ]
  },
  {
   "cell_type": "markdown",
   "id": "144f58df",
   "metadata": {},
   "source": [
    "**Gravitational force is the attractive force that exists between twomasses.\n",
    "It can be calculated by using the following formula**"
   ]
  },
  {
   "cell_type": "markdown",
   "id": "cee3b05b",
   "metadata": {},
   "source": [
    "**Write a code that accepts these constants as input and produces this**"
   ]
  },
  {
   "cell_type": "markdown",
   "id": "7de7cab1",
   "metadata": {},
   "source": [
    "### Inputs"
   ]
  },
  {
   "cell_type": "code",
   "execution_count": 6,
   "id": "09999ff2",
   "metadata": {},
   "outputs": [
    {
     "name": "stdout",
     "output_type": "stream",
     "text": [
      "enter planet's gravety : 6.67\n",
      "enter mass's earth : 6\n",
      "enter moon's mass : 7.34\n",
      "enter R : 3.84\n"
     ]
    }
   ],
   "source": [
    "gravety = float(input(\"enter planet's gravety : \")) * 10**-11\n",
    "M_earth = float(input(\"enter mass's earth : \"))* 10**24\n",
    "M_moon = float(input(\"enter moon's mass : \")) * 10**22\n",
    "r = (float(input(\"enter R : \")) * 10**8) **2\n"
   ]
  },
  {
   "cell_type": "markdown",
   "id": "51b39bfb",
   "metadata": {},
   "source": [
    "## the formela"
   ]
  },
  {
   "cell_type": "code",
   "execution_count": 7,
   "id": "570a916b",
   "metadata": {},
   "outputs": [
    {
     "data": {
      "text/plain": [
       "1.9920979817708333e+20"
      ]
     },
     "execution_count": 7,
     "metadata": {},
     "output_type": "execute_result"
    }
   ],
   "source": [
    "FG = gravety * M_earth * M_moon / r\n",
    "FG"
   ]
  },
  {
   "cell_type": "markdown",
   "id": "68b077ab",
   "metadata": {},
   "source": [
    "# Task 2"
   ]
  },
  {
   "cell_type": "markdown",
   "id": "b44766ab",
   "metadata": {},
   "source": [
    "**Write a program that accepts a sequence of comma-separatednumbers \n",
    "from user and generates a list and a tuple with those numbers**"
   ]
  },
  {
   "cell_type": "code",
   "execution_count": 10,
   "id": "1b2edeb3",
   "metadata": {},
   "outputs": [
    {
     "name": "stdout",
     "output_type": "stream",
     "text": [
      "enter the length of the list : 5\n",
      "enter the number : 1\n",
      "enter the number : 2\n",
      "enter the number : 3\n",
      "enter the number : 4\n",
      "enter the number : 5\n",
      "[1, 2, 3, 4, 5]\n",
      "(1, 2, 3, 4, 5)\n"
     ]
    }
   ],
   "source": [
    "my_list = []\n",
    "list_length = int(input(\"enter the length of the list : \"))\n",
    "\n",
    "for i in range(list_length):\n",
    "    num = int(input(\"enter the number : \"))\n",
    "    my_list.append(num)\n",
    "    \n",
    "print(my_list)\n",
    "print(tuple(my_list))"
   ]
  },
  {
   "cell_type": "markdown",
   "id": "060ddfa3",
   "metadata": {},
   "source": [
    "# Task 3"
   ]
  },
  {
   "cell_type": "markdown",
   "id": "10bf6aca",
   "metadata": {},
   "source": [
    "**Write a program that prints the integers from 1 to 100. But formultiples \n",
    "of three print \"Fizz\" instead of the number, and for the multiples of five \n",
    "print \"Buzz\". For numbers which are multiples of both three and five \n",
    "print \"FizzBuzz\".**"
   ]
  },
  {
   "cell_type": "code",
   "execution_count": 41,
   "id": "0cbf20bc",
   "metadata": {},
   "outputs": [
    {
     "name": "stdout",
     "output_type": "stream",
     "text": [
      "[1, 2, 3, 4, 5, 6, 7, 8, 9, 10, 11, 12, 13, 14, 15, 16, 17, 18, 19, 20, 21, 22, 23, 24, 25, 26, 27, 28, 29, 30, 31, 32, 33, 34, 35, 36, 37, 38, 39, 40, 41, 42, 43, 44, 45, 46, 47, 48, 49, 50, 51, 52, 53, 54, 55, 56, 57, 58, 59, 60, 61, 62, 63, 64, 65, 66, 67, 68, 69, 70, 71, 72, 73, 74, 75, 76, 77, 78, 79, 80, 81, 82, 83, 84, 85, 86, 87, 88, 89, 90, 91, 92, 93, 94, 95, 96, 97, 98, 99, 100]\n"
     ]
    }
   ],
   "source": [
    "my_list2 = list(range(1 , 101))\n",
    "print(my_list2)\n"
   ]
  },
  {
   "cell_type": "code",
   "execution_count": 46,
   "id": "12340f06",
   "metadata": {},
   "outputs": [
    {
     "name": "stdout",
     "output_type": "stream",
     "text": [
      "1\n",
      "2\n",
      "Fizz\n",
      "4\n",
      "Buzz\n",
      "Fizz\n",
      "7\n",
      "8\n",
      "Fizz\n",
      "Buzz\n",
      "11\n",
      "Fizz\n",
      "13\n",
      "14\n",
      "Fizz\n",
      "16\n",
      "17\n",
      "Fizz\n",
      "19\n",
      "Buzz\n",
      "Fizz\n",
      "22\n",
      "23\n",
      "Fizz\n",
      "Buzz\n",
      "26\n",
      "Fizz\n",
      "28\n",
      "29\n",
      "Fizz\n",
      "31\n",
      "32\n",
      "Fizz\n",
      "34\n",
      "Buzz\n",
      "Fizz\n",
      "37\n",
      "38\n",
      "Fizz\n",
      "Buzz\n",
      "41\n",
      "Fizz\n",
      "43\n",
      "44\n",
      "Fizz\n",
      "46\n",
      "47\n",
      "Fizz\n",
      "49\n",
      "Buzz\n",
      "Fizz\n",
      "52\n",
      "53\n",
      "Fizz\n",
      "Buzz\n",
      "56\n",
      "Fizz\n",
      "58\n",
      "59\n",
      "Fizz\n",
      "61\n",
      "62\n",
      "Fizz\n",
      "64\n",
      "Buzz\n",
      "Fizz\n",
      "67\n",
      "68\n",
      "Fizz\n",
      "Buzz\n",
      "71\n",
      "Fizz\n",
      "73\n",
      "74\n",
      "Fizz\n",
      "76\n",
      "77\n",
      "Fizz\n",
      "79\n",
      "Buzz\n",
      "Fizz\n",
      "82\n",
      "83\n",
      "Fizz\n",
      "Buzz\n",
      "86\n",
      "Fizz\n",
      "88\n",
      "89\n",
      "Fizz\n",
      "91\n",
      "92\n",
      "Fizz\n",
      "94\n",
      "Buzz\n",
      "Fizz\n",
      "97\n",
      "98\n",
      "Fizz\n",
      "Buzz\n"
     ]
    }
   ],
   "source": [
    "for i in my_list2:\n",
    "\n",
    "\n",
    "    if i % 3 == 0:\n",
    "        print(\"Fizz\")\n",
    "    elif i % 5 == 0:\n",
    "        print(\"Buzz\")        \n",
    "    elif i%3==0 and i%5==0:\n",
    "        print(\"FizzBuzz\")\n",
    "        \n",
    "    else:\n",
    "        print(i)\n",
    "\n",
    "            \n",
    "\n",
    "\n",
    "        \n"
   ]
  },
  {
   "cell_type": "code",
   "execution_count": null,
   "id": "db83d8c7",
   "metadata": {},
   "outputs": [],
   "source": []
  }
 ],
 "metadata": {
  "kernelspec": {
   "display_name": "Python 3 (ipykernel)",
   "language": "python",
   "name": "python3"
  },
  "language_info": {
   "codemirror_mode": {
    "name": "ipython",
    "version": 3
   },
   "file_extension": ".py",
   "mimetype": "text/x-python",
   "name": "python",
   "nbconvert_exporter": "python",
   "pygments_lexer": "ipython3",
   "version": "3.11.3"
  }
 },
 "nbformat": 4,
 "nbformat_minor": 5
}
