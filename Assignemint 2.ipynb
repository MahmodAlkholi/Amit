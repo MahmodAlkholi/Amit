{
 "cells": [
  {
   "cell_type": "markdown",
   "id": "3ae1fd43",
   "metadata": {},
   "source": [
    "# Task 1"
   ]
  },
  {
   "cell_type": "markdown",
   "id": "144f58df",
   "metadata": {},
   "source": [
    "**Gravitational force is the attractive force that exists between twomasses.\n",
    "It can be calculated by using the following formula**"
   ]
  },
  {
   "cell_type": "markdown",
   "id": "cee3b05b",
   "metadata": {},
   "source": [
    "**Write a code that accepts these constants as input and produces this**"
   ]
  },
  {
   "cell_type": "markdown",
   "id": "7de7cab1",
   "metadata": {},
   "source": [
    "### Inputs"
   ]
  },
  {
   "cell_type": "code",
   "execution_count": 6,
   "id": "09999ff2",
   "metadata": {},
   "outputs": [
    {
     "name": "stdout",
     "output_type": "stream",
     "text": [
      "enter planet's gravety : 6.67\n",
      "enter mass's earth : 6\n",
      "enter moon's mass : 7.34\n",
      "enter R : 3.84\n"
     ]
    }
   ],
   "source": [
    "gravety = float(input(\"enter planet's gravety : \")) * 10**-11\n",
    "M_earth = float(input(\"enter mass's earth : \"))* 10**24\n",
    "M_moon = float(input(\"enter moon's mass : \")) * 10**22\n",
    "r = (float(input(\"enter R : \")) * 10**8) **2\n"
   ]
  },
  {
   "cell_type": "markdown",
   "id": "51b39bfb",
   "metadata": {},
   "source": [
    "## the formela"
   ]
  },
  {
   "cell_type": "code",
   "execution_count": 7,
   "id": "570a916b",
   "metadata": {},
   "outputs": [
    {
     "data": {
      "text/plain": [
       "1.9920979817708333e+20"
      ]
     },
     "execution_count": 7,
     "metadata": {},
     "output_type": "execute_result"
    }
   ],
   "source": [
    "FG = gravety * M_earth * M_moon / r\n",
    "FG"
   ]
  },
  {
   "cell_type": "markdown",
   "id": "68b077ab",
   "metadata": {},
   "source": [
    "# Task 2"
   ]
  },
  {
   "cell_type": "markdown",
   "id": "b44766ab",
   "metadata": {},
   "source": [
    "**Write a program that accepts a sequence of comma-separatednumbers \n",
    "from user and generates a list and a tuple with those numbers**"
   ]
  },
  {
   "cell_type": "code",
   "execution_count": 10,
   "id": "1b2edeb3",
   "metadata": {},
   "outputs": [
    {
     "name": "stdout",
     "output_type": "stream",
     "text": [
      "enter the length of the list : 5\n",
      "enter the number : 1\n",
      "enter the number : 2\n",
      "enter the number : 3\n",
      "enter the number : 4\n",
      "enter the number : 5\n",
      "[1, 2, 3, 4, 5]\n",
      "(1, 2, 3, 4, 5)\n"
     ]
    }
   ],
   "source": [
    "my_list = []\n",
    "list_length = int(input(\"enter the length of the list : \"))\n",
    "\n",
    "for i in range(list_length):\n",
    "    num = int(input(\"enter the number : \"))\n",
    "    my_list.append(num)\n",
    "    \n",
    "print(my_list)\n",
    "print(tuple(my_list))"
   ]
  },
  {
   "cell_type": "code",
   "execution_count": null,
   "id": "1a69df15",
   "metadata": {},
   "outputs": [],
   "source": []
  }
 ],
 "metadata": {
  "kernelspec": {
   "display_name": "Python 3 (ipykernel)",
   "language": "python",
   "name": "python3"
  },
  "language_info": {
   "codemirror_mode": {
    "name": "ipython",
    "version": 3
   },
   "file_extension": ".py",
   "mimetype": "text/x-python",
   "name": "python",
   "nbconvert_exporter": "python",
   "pygments_lexer": "ipython3",
   "version": "3.11.3"
  }
 },
 "nbformat": 4,
 "nbformat_minor": 5
}
